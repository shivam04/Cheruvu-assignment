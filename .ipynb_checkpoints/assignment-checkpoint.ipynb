{
 "cells": [
  {
   "cell_type": "markdown",
   "metadata": {},
   "source": [
    "Question 1 and Question 2"
   ]
  },
  {
   "cell_type": "code",
   "execution_count": 1,
   "metadata": {
    "collapsed": true
   },
   "outputs": [],
   "source": [
    "import numpy as np\n",
    "import pandas as pd"
   ]
  },
  {
   "cell_type": "code",
   "execution_count": 2,
   "metadata": {},
   "outputs": [
    {
     "data": {
      "text/html": [
       "<div>\n",
       "<style>\n",
       "    .dataframe thead tr:only-child th {\n",
       "        text-align: right;\n",
       "    }\n",
       "\n",
       "    .dataframe thead th {\n",
       "        text-align: left;\n",
       "    }\n",
       "\n",
       "    .dataframe tbody tr th {\n",
       "        vertical-align: top;\n",
       "    }\n",
       "</style>\n",
       "<table border=\"1\" class=\"dataframe\">\n",
       "  <thead>\n",
       "    <tr style=\"text-align: right;\">\n",
       "      <th></th>\n",
       "      <th>m7497.96</th>\n",
       "      <th>m7496.04</th>\n",
       "      <th>m7494.11</th>\n",
       "      <th>m7492.18</th>\n",
       "      <th>m7490.25</th>\n",
       "      <th>m7488.32</th>\n",
       "      <th>m7486.39</th>\n",
       "      <th>m7484.46</th>\n",
       "      <th>m7482.54</th>\n",
       "      <th>m7480.61</th>\n",
       "      <th>...</th>\n",
       "      <th>REF3</th>\n",
       "      <th>REF7</th>\n",
       "      <th>RELI</th>\n",
       "      <th>TMAP</th>\n",
       "      <th>TMFI</th>\n",
       "      <th>Ca</th>\n",
       "      <th>P</th>\n",
       "      <th>pH</th>\n",
       "      <th>SOC</th>\n",
       "      <th>Sand</th>\n",
       "    </tr>\n",
       "  </thead>\n",
       "  <tbody>\n",
       "    <tr>\n",
       "      <th>0</th>\n",
       "      <td>0.302553</td>\n",
       "      <td>0.301137</td>\n",
       "      <td>0.299748</td>\n",
       "      <td>0.300354</td>\n",
       "      <td>0.302679</td>\n",
       "      <td>0.303799</td>\n",
       "      <td>0.301702</td>\n",
       "      <td>0.298936</td>\n",
       "      <td>0.298126</td>\n",
       "      <td>0.298120</td>\n",
       "      <td>...</td>\n",
       "      <td>-0.722567</td>\n",
       "      <td>-0.646673</td>\n",
       "      <td>1.687734</td>\n",
       "      <td>0.190708</td>\n",
       "      <td>0.056843</td>\n",
       "      <td>-0.295749</td>\n",
       "      <td>-0.041336</td>\n",
       "      <td>-1.129366</td>\n",
       "      <td>0.353258</td>\n",
       "      <td>1.269748</td>\n",
       "    </tr>\n",
       "    <tr>\n",
       "      <th>1</th>\n",
       "      <td>0.270192</td>\n",
       "      <td>0.268555</td>\n",
       "      <td>0.266964</td>\n",
       "      <td>0.267938</td>\n",
       "      <td>0.271013</td>\n",
       "      <td>0.272346</td>\n",
       "      <td>0.269870</td>\n",
       "      <td>0.266976</td>\n",
       "      <td>0.266544</td>\n",
       "      <td>0.266766</td>\n",
       "      <td>...</td>\n",
       "      <td>-0.722567</td>\n",
       "      <td>-0.646673</td>\n",
       "      <td>1.687734</td>\n",
       "      <td>0.190708</td>\n",
       "      <td>0.056843</td>\n",
       "      <td>-0.387442</td>\n",
       "      <td>-0.231552</td>\n",
       "      <td>-1.531538</td>\n",
       "      <td>-0.264023</td>\n",
       "      <td>1.692209</td>\n",
       "    </tr>\n",
       "    <tr>\n",
       "      <th>2</th>\n",
       "      <td>0.317433</td>\n",
       "      <td>0.316265</td>\n",
       "      <td>0.314948</td>\n",
       "      <td>0.315224</td>\n",
       "      <td>0.316942</td>\n",
       "      <td>0.317764</td>\n",
       "      <td>0.316067</td>\n",
       "      <td>0.313874</td>\n",
       "      <td>0.313301</td>\n",
       "      <td>0.313296</td>\n",
       "      <td>...</td>\n",
       "      <td>-0.832298</td>\n",
       "      <td>-0.814516</td>\n",
       "      <td>1.806660</td>\n",
       "      <td>0.190708</td>\n",
       "      <td>0.056843</td>\n",
       "      <td>-0.248601</td>\n",
       "      <td>-0.224635</td>\n",
       "      <td>-0.259551</td>\n",
       "      <td>0.064152</td>\n",
       "      <td>2.091835</td>\n",
       "    </tr>\n",
       "    <tr>\n",
       "      <th>3</th>\n",
       "      <td>0.261116</td>\n",
       "      <td>0.259767</td>\n",
       "      <td>0.258384</td>\n",
       "      <td>0.259001</td>\n",
       "      <td>0.261310</td>\n",
       "      <td>0.262417</td>\n",
       "      <td>0.260534</td>\n",
       "      <td>0.258039</td>\n",
       "      <td>0.257246</td>\n",
       "      <td>0.257124</td>\n",
       "      <td>...</td>\n",
       "      <td>-0.832298</td>\n",
       "      <td>-0.814516</td>\n",
       "      <td>1.806660</td>\n",
       "      <td>0.190708</td>\n",
       "      <td>0.056843</td>\n",
       "      <td>-0.332195</td>\n",
       "      <td>-0.318014</td>\n",
       "      <td>-0.577548</td>\n",
       "      <td>-0.318719</td>\n",
       "      <td>2.118477</td>\n",
       "    </tr>\n",
       "    <tr>\n",
       "      <th>4</th>\n",
       "      <td>0.260038</td>\n",
       "      <td>0.258425</td>\n",
       "      <td>0.256544</td>\n",
       "      <td>0.257030</td>\n",
       "      <td>0.259602</td>\n",
       "      <td>0.260786</td>\n",
       "      <td>0.258717</td>\n",
       "      <td>0.256352</td>\n",
       "      <td>0.255902</td>\n",
       "      <td>0.255822</td>\n",
       "      <td>...</td>\n",
       "      <td>-0.795031</td>\n",
       "      <td>-0.780242</td>\n",
       "      <td>0.430513</td>\n",
       "      <td>0.190708</td>\n",
       "      <td>0.056843</td>\n",
       "      <td>-0.438350</td>\n",
       "      <td>-0.010210</td>\n",
       "      <td>-0.699135</td>\n",
       "      <td>-0.310905</td>\n",
       "      <td>2.164148</td>\n",
       "    </tr>\n",
       "  </tbody>\n",
       "</table>\n",
       "<p>5 rows × 3598 columns</p>\n",
       "</div>"
      ],
      "text/plain": [
       "   m7497.96  m7496.04  m7494.11  m7492.18  m7490.25  m7488.32  m7486.39  \\\n",
       "0  0.302553  0.301137  0.299748  0.300354  0.302679  0.303799  0.301702   \n",
       "1  0.270192  0.268555  0.266964  0.267938  0.271013  0.272346  0.269870   \n",
       "2  0.317433  0.316265  0.314948  0.315224  0.316942  0.317764  0.316067   \n",
       "3  0.261116  0.259767  0.258384  0.259001  0.261310  0.262417  0.260534   \n",
       "4  0.260038  0.258425  0.256544  0.257030  0.259602  0.260786  0.258717   \n",
       "\n",
       "   m7484.46  m7482.54  m7480.61    ...         REF3      REF7      RELI  \\\n",
       "0  0.298936  0.298126  0.298120    ...    -0.722567 -0.646673  1.687734   \n",
       "1  0.266976  0.266544  0.266766    ...    -0.722567 -0.646673  1.687734   \n",
       "2  0.313874  0.313301  0.313296    ...    -0.832298 -0.814516  1.806660   \n",
       "3  0.258039  0.257246  0.257124    ...    -0.832298 -0.814516  1.806660   \n",
       "4  0.256352  0.255902  0.255822    ...    -0.795031 -0.780242  0.430513   \n",
       "\n",
       "       TMAP      TMFI        Ca         P        pH       SOC      Sand  \n",
       "0  0.190708  0.056843 -0.295749 -0.041336 -1.129366  0.353258  1.269748  \n",
       "1  0.190708  0.056843 -0.387442 -0.231552 -1.531538 -0.264023  1.692209  \n",
       "2  0.190708  0.056843 -0.248601 -0.224635 -0.259551  0.064152  2.091835  \n",
       "3  0.190708  0.056843 -0.332195 -0.318014 -0.577548 -0.318719  2.118477  \n",
       "4  0.190708  0.056843 -0.438350 -0.010210 -0.699135 -0.310905  2.164148  \n",
       "\n",
       "[5 rows x 3598 columns]"
      ]
     },
     "execution_count": 2,
     "metadata": {},
     "output_type": "execute_result"
    }
   ],
   "source": [
    "df = pd.read_csv('training.csv')\n",
    "del df['PIDN']\n",
    "del df['Depth']\n",
    "df.head()"
   ]
  },
  {
   "cell_type": "code",
   "execution_count": 3,
   "metadata": {},
   "outputs": [
    {
     "data": {
      "text/plain": [
       "0    0.353258\n",
       "1   -0.264023\n",
       "2    0.064152\n",
       "3   -0.318719\n",
       "4   -0.310905\n",
       "Name: SOC, dtype: float64"
      ]
     },
     "execution_count": 3,
     "metadata": {},
     "output_type": "execute_result"
    }
   ],
   "source": [
    "SOC = df['SOC']\n",
    "del df['SOC']\n",
    "SOC.head()"
   ]
  },
  {
   "cell_type": "code",
   "execution_count": 4,
   "metadata": {},
   "outputs": [
    {
     "data": {
      "text/plain": [
       "0   -1.129366\n",
       "1   -1.531538\n",
       "2   -0.259551\n",
       "3   -0.577548\n",
       "4   -0.699135\n",
       "Name: pH, dtype: float64"
      ]
     },
     "execution_count": 4,
     "metadata": {},
     "output_type": "execute_result"
    }
   ],
   "source": [
    "pH = df['pH']\n",
    "del df['pH']\n",
    "pH.head()"
   ]
  },
  {
   "cell_type": "code",
   "execution_count": 5,
   "metadata": {},
   "outputs": [
    {
     "data": {
      "text/plain": [
       "0   -0.041336\n",
       "1   -0.231552\n",
       "2   -0.224635\n",
       "3   -0.318014\n",
       "4   -0.010210\n",
       "Name: P, dtype: float64"
      ]
     },
     "execution_count": 5,
     "metadata": {},
     "output_type": "execute_result"
    }
   ],
   "source": [
    "P = df['P']\n",
    "del df['P']\n",
    "P.head()"
   ]
  },
  {
   "cell_type": "code",
   "execution_count": 6,
   "metadata": {},
   "outputs": [
    {
     "data": {
      "text/plain": [
       "0   -0.295749\n",
       "1   -0.387442\n",
       "2   -0.248601\n",
       "3   -0.332195\n",
       "4   -0.438350\n",
       "Name: Ca, dtype: float64"
      ]
     },
     "execution_count": 6,
     "metadata": {},
     "output_type": "execute_result"
    }
   ],
   "source": [
    "Ca = df['Ca']\n",
    "del df['Ca']\n",
    "Ca.head()"
   ]
  },
  {
   "cell_type": "code",
   "execution_count": 7,
   "metadata": {},
   "outputs": [
    {
     "data": {
      "text/plain": [
       "0    1.269748\n",
       "1    1.692209\n",
       "2    2.091835\n",
       "3    2.118477\n",
       "4    2.164148\n",
       "Name: Sand, dtype: float64"
      ]
     },
     "execution_count": 7,
     "metadata": {},
     "output_type": "execute_result"
    }
   ],
   "source": [
    "Sand = df['Sand']\n",
    "del df['Sand']\n",
    "Sand.head()"
   ]
  },
  {
   "cell_type": "code",
   "execution_count": 8,
   "metadata": {},
   "outputs": [
    {
     "data": {
      "text/html": [
       "<div>\n",
       "<style>\n",
       "    .dataframe thead tr:only-child th {\n",
       "        text-align: right;\n",
       "    }\n",
       "\n",
       "    .dataframe thead th {\n",
       "        text-align: left;\n",
       "    }\n",
       "\n",
       "    .dataframe tbody tr th {\n",
       "        vertical-align: top;\n",
       "    }\n",
       "</style>\n",
       "<table border=\"1\" class=\"dataframe\">\n",
       "  <thead>\n",
       "    <tr style=\"text-align: right;\">\n",
       "      <th></th>\n",
       "      <th>m7497.96</th>\n",
       "      <th>m7496.04</th>\n",
       "      <th>m7494.11</th>\n",
       "      <th>m7492.18</th>\n",
       "      <th>m7490.25</th>\n",
       "      <th>m7488.32</th>\n",
       "      <th>m7486.39</th>\n",
       "      <th>m7484.46</th>\n",
       "      <th>m7482.54</th>\n",
       "      <th>m7480.61</th>\n",
       "      <th>...</th>\n",
       "      <th>EVI</th>\n",
       "      <th>LSTD</th>\n",
       "      <th>LSTN</th>\n",
       "      <th>REF1</th>\n",
       "      <th>REF2</th>\n",
       "      <th>REF3</th>\n",
       "      <th>REF7</th>\n",
       "      <th>RELI</th>\n",
       "      <th>TMAP</th>\n",
       "      <th>TMFI</th>\n",
       "    </tr>\n",
       "  </thead>\n",
       "  <tbody>\n",
       "    <tr>\n",
       "      <th>0</th>\n",
       "      <td>0.302553</td>\n",
       "      <td>0.301137</td>\n",
       "      <td>0.299748</td>\n",
       "      <td>0.300354</td>\n",
       "      <td>0.302679</td>\n",
       "      <td>0.303799</td>\n",
       "      <td>0.301702</td>\n",
       "      <td>0.298936</td>\n",
       "      <td>0.298126</td>\n",
       "      <td>0.298120</td>\n",
       "      <td>...</td>\n",
       "      <td>1.062682</td>\n",
       "      <td>-0.716713</td>\n",
       "      <td>-0.090016</td>\n",
       "      <td>-0.861091</td>\n",
       "      <td>-0.537106</td>\n",
       "      <td>-0.722567</td>\n",
       "      <td>-0.646673</td>\n",
       "      <td>1.687734</td>\n",
       "      <td>0.190708</td>\n",
       "      <td>0.056843</td>\n",
       "    </tr>\n",
       "    <tr>\n",
       "      <th>1</th>\n",
       "      <td>0.270192</td>\n",
       "      <td>0.268555</td>\n",
       "      <td>0.266964</td>\n",
       "      <td>0.267938</td>\n",
       "      <td>0.271013</td>\n",
       "      <td>0.272346</td>\n",
       "      <td>0.269870</td>\n",
       "      <td>0.266976</td>\n",
       "      <td>0.266544</td>\n",
       "      <td>0.266766</td>\n",
       "      <td>...</td>\n",
       "      <td>1.062682</td>\n",
       "      <td>-0.716713</td>\n",
       "      <td>-0.090016</td>\n",
       "      <td>-0.861091</td>\n",
       "      <td>-0.537106</td>\n",
       "      <td>-0.722567</td>\n",
       "      <td>-0.646673</td>\n",
       "      <td>1.687734</td>\n",
       "      <td>0.190708</td>\n",
       "      <td>0.056843</td>\n",
       "    </tr>\n",
       "    <tr>\n",
       "      <th>2</th>\n",
       "      <td>0.317433</td>\n",
       "      <td>0.316265</td>\n",
       "      <td>0.314948</td>\n",
       "      <td>0.315224</td>\n",
       "      <td>0.316942</td>\n",
       "      <td>0.317764</td>\n",
       "      <td>0.316067</td>\n",
       "      <td>0.313874</td>\n",
       "      <td>0.313301</td>\n",
       "      <td>0.313296</td>\n",
       "      <td>...</td>\n",
       "      <td>1.156705</td>\n",
       "      <td>-1.282552</td>\n",
       "      <td>-0.088336</td>\n",
       "      <td>-0.935273</td>\n",
       "      <td>-0.631725</td>\n",
       "      <td>-0.832298</td>\n",
       "      <td>-0.814516</td>\n",
       "      <td>1.806660</td>\n",
       "      <td>0.190708</td>\n",
       "      <td>0.056843</td>\n",
       "    </tr>\n",
       "    <tr>\n",
       "      <th>3</th>\n",
       "      <td>0.261116</td>\n",
       "      <td>0.259767</td>\n",
       "      <td>0.258384</td>\n",
       "      <td>0.259001</td>\n",
       "      <td>0.261310</td>\n",
       "      <td>0.262417</td>\n",
       "      <td>0.260534</td>\n",
       "      <td>0.258039</td>\n",
       "      <td>0.257246</td>\n",
       "      <td>0.257124</td>\n",
       "      <td>...</td>\n",
       "      <td>1.156705</td>\n",
       "      <td>-1.282552</td>\n",
       "      <td>-0.088336</td>\n",
       "      <td>-0.935273</td>\n",
       "      <td>-0.631725</td>\n",
       "      <td>-0.832298</td>\n",
       "      <td>-0.814516</td>\n",
       "      <td>1.806660</td>\n",
       "      <td>0.190708</td>\n",
       "      <td>0.056843</td>\n",
       "    </tr>\n",
       "    <tr>\n",
       "      <th>4</th>\n",
       "      <td>0.260038</td>\n",
       "      <td>0.258425</td>\n",
       "      <td>0.256544</td>\n",
       "      <td>0.257030</td>\n",
       "      <td>0.259602</td>\n",
       "      <td>0.260786</td>\n",
       "      <td>0.258717</td>\n",
       "      <td>0.256352</td>\n",
       "      <td>0.255902</td>\n",
       "      <td>0.255822</td>\n",
       "      <td>...</td>\n",
       "      <td>1.191691</td>\n",
       "      <td>-1.206971</td>\n",
       "      <td>0.011420</td>\n",
       "      <td>-0.906182</td>\n",
       "      <td>-0.528757</td>\n",
       "      <td>-0.795031</td>\n",
       "      <td>-0.780242</td>\n",
       "      <td>0.430513</td>\n",
       "      <td>0.190708</td>\n",
       "      <td>0.056843</td>\n",
       "    </tr>\n",
       "  </tbody>\n",
       "</table>\n",
       "<p>5 rows × 3593 columns</p>\n",
       "</div>"
      ],
      "text/plain": [
       "   m7497.96  m7496.04  m7494.11  m7492.18  m7490.25  m7488.32  m7486.39  \\\n",
       "0  0.302553  0.301137  0.299748  0.300354  0.302679  0.303799  0.301702   \n",
       "1  0.270192  0.268555  0.266964  0.267938  0.271013  0.272346  0.269870   \n",
       "2  0.317433  0.316265  0.314948  0.315224  0.316942  0.317764  0.316067   \n",
       "3  0.261116  0.259767  0.258384  0.259001  0.261310  0.262417  0.260534   \n",
       "4  0.260038  0.258425  0.256544  0.257030  0.259602  0.260786  0.258717   \n",
       "\n",
       "   m7484.46  m7482.54  m7480.61    ...          EVI      LSTD      LSTN  \\\n",
       "0  0.298936  0.298126  0.298120    ...     1.062682 -0.716713 -0.090016   \n",
       "1  0.266976  0.266544  0.266766    ...     1.062682 -0.716713 -0.090016   \n",
       "2  0.313874  0.313301  0.313296    ...     1.156705 -1.282552 -0.088336   \n",
       "3  0.258039  0.257246  0.257124    ...     1.156705 -1.282552 -0.088336   \n",
       "4  0.256352  0.255902  0.255822    ...     1.191691 -1.206971  0.011420   \n",
       "\n",
       "       REF1      REF2      REF3      REF7      RELI      TMAP      TMFI  \n",
       "0 -0.861091 -0.537106 -0.722567 -0.646673  1.687734  0.190708  0.056843  \n",
       "1 -0.861091 -0.537106 -0.722567 -0.646673  1.687734  0.190708  0.056843  \n",
       "2 -0.935273 -0.631725 -0.832298 -0.814516  1.806660  0.190708  0.056843  \n",
       "3 -0.935273 -0.631725 -0.832298 -0.814516  1.806660  0.190708  0.056843  \n",
       "4 -0.906182 -0.528757 -0.795031 -0.780242  0.430513  0.190708  0.056843  \n",
       "\n",
       "[5 rows x 3593 columns]"
      ]
     },
     "execution_count": 8,
     "metadata": {},
     "output_type": "execute_result"
    }
   ],
   "source": [
    "df.head()"
   ]
  },
  {
   "cell_type": "code",
   "execution_count": 9,
   "metadata": {},
   "outputs": [
    {
     "data": {
      "text/plain": [
       "(1157, 3593)"
      ]
     },
     "execution_count": 9,
     "metadata": {},
     "output_type": "execute_result"
    }
   ],
   "source": [
    "X = df.as_matrix()\n",
    "X.shape"
   ]
  },
  {
   "cell_type": "code",
   "execution_count": 10,
   "metadata": {},
   "outputs": [
    {
     "name": "stdout",
     "output_type": "stream",
     "text": [
      "(1157,)\n",
      "(1157,)\n",
      "(1157,)\n",
      "(1157,)\n",
      "(1157,)\n"
     ]
    }
   ],
   "source": [
    "Y_SOC = SOC.as_matrix()\n",
    "Y_pH = pH.as_matrix()\n",
    "Y_P = P.as_matrix()\n",
    "Y_Sand = Sand.as_matrix()\n",
    "Y_Ca = Ca.as_matrix()\n",
    "print Y_SOC.shape\n",
    "print Y_pH.shape\n",
    "print Y_P.shape\n",
    "print Y_Sand.shape\n",
    "print Y_Ca.shape"
   ]
  },
  {
   "cell_type": "code",
   "execution_count": 11,
   "metadata": {
    "collapsed": true
   },
   "outputs": [],
   "source": [
    "def initialize_parameters(layer_dims):    \n",
    "    np.random.seed(3)\n",
    "    parameters = {}\n",
    "    L = len(layer_dims)\n",
    "\n",
    "    for l in range(1, L):\n",
    "        parameters['W' + str(l)] = np.random.randn(layer_dims[l], layer_dims[l-1])*0.01\n",
    "        parameters['b' + str(l)] = np.zeros((layer_dims[l],1))\n",
    "        \n",
    "        assert(parameters['W' + str(l)].shape == (layer_dims[l], layer_dims[l-1]))\n",
    "        assert(parameters['b' + str(l)].shape == (layer_dims[l], 1))\n",
    "\n",
    "        \n",
    "    return parameters"
   ]
  },
  {
   "cell_type": "code",
   "execution_count": 12,
   "metadata": {},
   "outputs": [
    {
     "name": "stdout",
     "output_type": "stream",
     "text": [
      "(500, 3593)\n",
      "(100, 500)\n",
      "(1, 100)\n"
     ]
    }
   ],
   "source": [
    "parameters = initialize_parameters([X.shape[1],500,100,1])\n",
    "#print(\"W1 = \" + str(parameters[\"W1\"]))\n",
    "print parameters[\"W1\"].shape\n",
    "#print(\"b1 = \" + str(parameters[\"b1\"]))\n",
    "#print(\"W2 = \" + str(parameters[\"W2\"]))\n",
    "#print(\"b2 = \" + str(parameters[\"b2\"]))\n",
    "print parameters[\"W2\"].shape\n",
    "#print(\"W3 = \" + str(parameters[\"W3\"]))\n",
    "#print(\"b3 = \" + str(parameters[\"b3\"]))\n",
    "print parameters[\"W3\"].shape"
   ]
  },
  {
   "cell_type": "code",
   "execution_count": 13,
   "metadata": {
    "collapsed": true
   },
   "outputs": [],
   "source": [
    "def for_prop(A, W, b):\n",
    "    Z = np.dot(W,A)+b\n",
    "    cache = (A,W,b)\n",
    "    return Z,cache"
   ]
  },
  {
   "cell_type": "code",
   "execution_count": 14,
   "metadata": {
    "collapsed": true
   },
   "outputs": [],
   "source": [
    "def L_model_forward(X,parmeters):\n",
    "    caches = []\n",
    "    A = X\n",
    "    L = len(parameters) // 2\n",
    "    for l in range(1, L+1):\n",
    "        A_prev = A \n",
    "        A, cache = for_prop(A_prev,parameters['W'+str(l)],parameters['b'+str(l)])\n",
    "        caches.append(cache)\n",
    "    return A,caches"
   ]
  },
  {
   "cell_type": "code",
   "execution_count": 15,
   "metadata": {
    "collapsed": true
   },
   "outputs": [],
   "source": [
    "def compute_cost(AL, Y):\n",
    "    m = Y.shape[1]\n",
    "    cost = 1/(2*m)*np.sum((Y-AL)**2)\n",
    "    cost = np.squeeze(cost)\n",
    "    return cost"
   ]
  },
  {
   "cell_type": "code",
   "execution_count": 16,
   "metadata": {
    "collapsed": true
   },
   "outputs": [],
   "source": [
    "def back_prop(dAL,cache):\n",
    "    dZ = dAL*1\n",
    "    A_prev, W, b = cache\n",
    "    m = A_prev.shape[1]\n",
    "    dW = 1/m*np.dot(dZ,A_prev.T)\n",
    "    dB = 1/m*np.sum(dZ,axis=1,keepdims=True)\n",
    "    dA_prev = np.dot(W.T,dZ)\n",
    "    return dA_prev,dW,dB"
   ]
  },
  {
   "cell_type": "code",
   "execution_count": 17,
   "metadata": {
    "collapsed": true
   },
   "outputs": [],
   "source": [
    "def L_model_backward(AL,Y,caches):\n",
    "    L = len(caches)\n",
    "    dAL = 2*(AL-Y)\n",
    "    current_cache = caches[-1]\n",
    "    grads = {}\n",
    "    grads['dA'+str(L)],grads['dW'+str(L)],grads['db'+str(L)] = back_prop(dAL,current_cache)\n",
    "    for l in reversed(range(L-1)):\n",
    "        current_cache = caches[l]\n",
    "        dA_prev_temp, dW_temp, db_temp = back_prop(grads[\"dA\" + str(l + 2)],current_cache)\n",
    "        grads[\"dA\" + str(l + 1)] = dA_prev_temp\n",
    "        grads[\"dW\" + str(l + 1)] = dW_temp\n",
    "        grads[\"db\" + str(l + 1)] = db_temp\n",
    "    return grads"
   ]
  },
  {
   "cell_type": "code",
   "execution_count": 18,
   "metadata": {},
   "outputs": [
    {
     "data": {
      "text/plain": [
       "(1157, 3593)"
      ]
     },
     "execution_count": 18,
     "metadata": {},
     "output_type": "execute_result"
    }
   ],
   "source": [
    "X.shape"
   ]
  },
  {
   "cell_type": "code",
   "execution_count": 19,
   "metadata": {},
   "outputs": [
    {
     "data": {
      "text/plain": [
       "(3593, 1157)"
      ]
     },
     "execution_count": 19,
     "metadata": {},
     "output_type": "execute_result"
    }
   ],
   "source": [
    "X = X.T\n",
    "X.shape"
   ]
  },
  {
   "cell_type": "code",
   "execution_count": 20,
   "metadata": {},
   "outputs": [
    {
     "name": "stdout",
     "output_type": "stream",
     "text": [
      "(1, 1157)\n"
     ]
    }
   ],
   "source": [
    "Y_SOC = Y_SOC.reshape(1,Y_SOC.shape[0])\n",
    "print(Y_SOC.shape)"
   ]
  },
  {
   "cell_type": "code",
   "execution_count": 21,
   "metadata": {},
   "outputs": [
    {
     "name": "stdout",
     "output_type": "stream",
     "text": [
      "(1, 1157)\n"
     ]
    }
   ],
   "source": [
    "Y_P = Y_P.reshape(1,Y_P.shape[0])\n",
    "print(Y_P.shape)"
   ]
  },
  {
   "cell_type": "code",
   "execution_count": 22,
   "metadata": {},
   "outputs": [
    {
     "name": "stdout",
     "output_type": "stream",
     "text": [
      "(1, 1157)\n"
     ]
    }
   ],
   "source": [
    "Y_Sand = Y_Sand.reshape(1,Y_Sand.shape[0])\n",
    "print(Y_Sand.shape)"
   ]
  },
  {
   "cell_type": "code",
   "execution_count": 23,
   "metadata": {},
   "outputs": [
    {
     "name": "stdout",
     "output_type": "stream",
     "text": [
      "(1, 1157)\n"
     ]
    }
   ],
   "source": [
    "Y_pH = Y_pH.reshape(1,Y_pH.shape[0])\n",
    "print(Y_pH.shape)"
   ]
  },
  {
   "cell_type": "code",
   "execution_count": 24,
   "metadata": {},
   "outputs": [
    {
     "name": "stdout",
     "output_type": "stream",
     "text": [
      "(1, 1157)\n"
     ]
    }
   ],
   "source": [
    "Y_Ca = Y_Ca.reshape(1,Y_Ca.shape[0])\n",
    "print(Y_Ca.shape)"
   ]
  },
  {
   "cell_type": "code",
   "execution_count": 25,
   "metadata": {},
   "outputs": [
    {
     "name": "stdout",
     "output_type": "stream",
     "text": [
      "(500, 3593)\n",
      "(500, 1)\n",
      "(100, 500)\n",
      "(100, 1)\n",
      "(1, 100)\n",
      "(1, 1)\n"
     ]
    }
   ],
   "source": [
    "np.random.seed(1)\n",
    "layers_dims = [X.shape[0],500,100,1]\n",
    "parameters = initialize_parameters(layers_dims)\n",
    "print parameters[\"W1\"].shape\n",
    "print parameters[\"b1\"].shape\n",
    "print parameters[\"W2\"].shape\n",
    "print parameters[\"b2\"].shape\n",
    "print parameters[\"W3\"].shape\n",
    "print parameters[\"b3\"].shape"
   ]
  },
  {
   "cell_type": "code",
   "execution_count": 26,
   "metadata": {
    "collapsed": true
   },
   "outputs": [],
   "source": [
    "def update_parameters(parameters, grads, learning_rate):\n",
    "    \n",
    "    L = len(parameters) // 2\n",
    "    for l in range(1,L+1):\n",
    "        parameters[\"W\" + str(l)] = parameters[\"W\" + str(l)] - learning_rate*grads['dW'+str(l)]\n",
    "        parameters[\"b\" + str(l)] = parameters[\"b\" + str(l)] - learning_rate*grads['db'+str(l)]\n",
    "    return parameters"
   ]
  },
  {
   "cell_type": "code",
   "execution_count": 40,
   "metadata": {
    "collapsed": true
   },
   "outputs": [],
   "source": [
    "import matplotlib.pyplot as plt\n",
    "import scipy\n",
    "def different_result(X,Y,learning_rate=0.1,num_iter=1000,label=\"SOC\"):\n",
    "    costs = []\n",
    "    learning_rate = 0.05\n",
    "    layers_dims = [X.shape[0],500,100,1]\n",
    "    parameters = initialize_parameters(layers_dims)\n",
    "    for i in range(0, num_iter):\n",
    "            AL, caches = L_model_forward(X, parameters)\n",
    "            cost = compute_cost(AL, Y)\n",
    "            grads = L_model_backward(AL, Y, caches)\n",
    "            #print grads.keys()\n",
    "            parameters = update_parameters(parameters, grads, learning_rate)\n",
    "            if i % 10 == 0:\n",
    "                print (\"Cost after iteration %i: %f\" %(i, cost))\n",
    "            if i % 10 == 0:\n",
    "                costs.append(cost)\n",
    "    plt.plot(np.squeeze(costs))\n",
    "    plt.ylabel('cost')\n",
    "    plt.xlabel('iterations (per tens)')\n",
    "    plt.title(label+\"Learning rate =\" + str(learning_rate))\n",
    "    plt.show()\n",
    "    return parameters"
   ]
  },
  {
   "cell_type": "code",
   "execution_count": 34,
   "metadata": {},
   "outputs": [
    {
     "data": {
      "text/html": [
       "<div>\n",
       "<style>\n",
       "    .dataframe thead tr:only-child th {\n",
       "        text-align: right;\n",
       "    }\n",
       "\n",
       "    .dataframe thead th {\n",
       "        text-align: left;\n",
       "    }\n",
       "\n",
       "    .dataframe tbody tr th {\n",
       "        vertical-align: top;\n",
       "    }\n",
       "</style>\n",
       "<table border=\"1\" class=\"dataframe\">\n",
       "  <thead>\n",
       "    <tr style=\"text-align: right;\">\n",
       "      <th></th>\n",
       "      <th>PIDN</th>\n",
       "      <th>m7497.96</th>\n",
       "      <th>m7496.04</th>\n",
       "      <th>m7494.11</th>\n",
       "      <th>m7492.18</th>\n",
       "      <th>m7490.25</th>\n",
       "      <th>m7488.32</th>\n",
       "      <th>m7486.39</th>\n",
       "      <th>m7484.46</th>\n",
       "      <th>m7482.54</th>\n",
       "      <th>...</th>\n",
       "      <th>LSTD</th>\n",
       "      <th>LSTN</th>\n",
       "      <th>REF1</th>\n",
       "      <th>REF2</th>\n",
       "      <th>REF3</th>\n",
       "      <th>REF7</th>\n",
       "      <th>RELI</th>\n",
       "      <th>TMAP</th>\n",
       "      <th>TMFI</th>\n",
       "      <th>Depth</th>\n",
       "    </tr>\n",
       "  </thead>\n",
       "  <tbody>\n",
       "    <tr>\n",
       "      <th>0</th>\n",
       "      <td>09gt9UK5</td>\n",
       "      <td>0.210899</td>\n",
       "      <td>0.209221</td>\n",
       "      <td>0.207645</td>\n",
       "      <td>0.208714</td>\n",
       "      <td>0.211972</td>\n",
       "      <td>0.213562</td>\n",
       "      <td>0.211267</td>\n",
       "      <td>0.208248</td>\n",
       "      <td>0.207341</td>\n",
       "      <td>...</td>\n",
       "      <td>-0.009394</td>\n",
       "      <td>0.197885</td>\n",
       "      <td>-0.622545</td>\n",
       "      <td>-0.548238</td>\n",
       "      <td>-0.637681</td>\n",
       "      <td>-0.413306</td>\n",
       "      <td>-0.130139</td>\n",
       "      <td>0.154013</td>\n",
       "      <td>-0.033905</td>\n",
       "      <td>Subsoil</td>\n",
       "    </tr>\n",
       "    <tr>\n",
       "      <th>1</th>\n",
       "      <td>0BVvxJ6a</td>\n",
       "      <td>0.191650</td>\n",
       "      <td>0.184120</td>\n",
       "      <td>0.177070</td>\n",
       "      <td>0.180624</td>\n",
       "      <td>0.192343</td>\n",
       "      <td>0.197502</td>\n",
       "      <td>0.187655</td>\n",
       "      <td>0.175447</td>\n",
       "      <td>0.172639</td>\n",
       "      <td>...</td>\n",
       "      <td>-0.277944</td>\n",
       "      <td>-0.851643</td>\n",
       "      <td>-0.792000</td>\n",
       "      <td>-1.058442</td>\n",
       "      <td>-0.792961</td>\n",
       "      <td>-0.785786</td>\n",
       "      <td>-0.588855</td>\n",
       "      <td>0.106200</td>\n",
       "      <td>0.559694</td>\n",
       "      <td>Subsoil</td>\n",
       "    </tr>\n",
       "    <tr>\n",
       "      <th>2</th>\n",
       "      <td>0KbdgApg</td>\n",
       "      <td>0.083966</td>\n",
       "      <td>0.074740</td>\n",
       "      <td>0.065596</td>\n",
       "      <td>0.069924</td>\n",
       "      <td>0.085145</td>\n",
       "      <td>0.092527</td>\n",
       "      <td>0.080625</td>\n",
       "      <td>0.064768</td>\n",
       "      <td>0.060597</td>\n",
       "      <td>...</td>\n",
       "      <td>-0.443809</td>\n",
       "      <td>-0.628839</td>\n",
       "      <td>-0.754909</td>\n",
       "      <td>-0.926716</td>\n",
       "      <td>-0.865424</td>\n",
       "      <td>-0.607359</td>\n",
       "      <td>-0.334013</td>\n",
       "      <td>-0.021042</td>\n",
       "      <td>0.182431</td>\n",
       "      <td>Topsoil</td>\n",
       "    </tr>\n",
       "    <tr>\n",
       "      <th>3</th>\n",
       "      <td>0MnuuduB</td>\n",
       "      <td>0.345962</td>\n",
       "      <td>0.338567</td>\n",
       "      <td>0.331786</td>\n",
       "      <td>0.336948</td>\n",
       "      <td>0.350820</td>\n",
       "      <td>0.356365</td>\n",
       "      <td>0.345285</td>\n",
       "      <td>0.332233</td>\n",
       "      <td>0.328589</td>\n",
       "      <td>...</td>\n",
       "      <td>-0.758853</td>\n",
       "      <td>-0.961080</td>\n",
       "      <td>-0.729455</td>\n",
       "      <td>-0.780148</td>\n",
       "      <td>-0.716356</td>\n",
       "      <td>-0.552923</td>\n",
       "      <td>-0.079171</td>\n",
       "      <td>0.394936</td>\n",
       "      <td>0.774477</td>\n",
       "      <td>Topsoil</td>\n",
       "    </tr>\n",
       "    <tr>\n",
       "      <th>4</th>\n",
       "      <td>0PcIsF9z</td>\n",
       "      <td>0.239019</td>\n",
       "      <td>0.232611</td>\n",
       "      <td>0.226266</td>\n",
       "      <td>0.229921</td>\n",
       "      <td>0.241821</td>\n",
       "      <td>0.247756</td>\n",
       "      <td>0.239242</td>\n",
       "      <td>0.227977</td>\n",
       "      <td>0.224762</td>\n",
       "      <td>...</td>\n",
       "      <td>-1.228289</td>\n",
       "      <td>1.156914</td>\n",
       "      <td>-0.696727</td>\n",
       "      <td>0.080705</td>\n",
       "      <td>0.118012</td>\n",
       "      <td>-0.920363</td>\n",
       "      <td>-0.266055</td>\n",
       "      <td>1.612625</td>\n",
       "      <td>1.199048</td>\n",
       "      <td>Subsoil</td>\n",
       "    </tr>\n",
       "  </tbody>\n",
       "</table>\n",
       "<p>5 rows × 3595 columns</p>\n",
       "</div>"
      ],
      "text/plain": [
       "       PIDN  m7497.96  m7496.04  m7494.11  m7492.18  m7490.25  m7488.32  \\\n",
       "0  09gt9UK5  0.210899  0.209221  0.207645  0.208714  0.211972  0.213562   \n",
       "1  0BVvxJ6a  0.191650  0.184120  0.177070  0.180624  0.192343  0.197502   \n",
       "2  0KbdgApg  0.083966  0.074740  0.065596  0.069924  0.085145  0.092527   \n",
       "3  0MnuuduB  0.345962  0.338567  0.331786  0.336948  0.350820  0.356365   \n",
       "4  0PcIsF9z  0.239019  0.232611  0.226266  0.229921  0.241821  0.247756   \n",
       "\n",
       "   m7486.39  m7484.46  m7482.54   ...         LSTD      LSTN      REF1  \\\n",
       "0  0.211267  0.208248  0.207341   ...    -0.009394  0.197885 -0.622545   \n",
       "1  0.187655  0.175447  0.172639   ...    -0.277944 -0.851643 -0.792000   \n",
       "2  0.080625  0.064768  0.060597   ...    -0.443809 -0.628839 -0.754909   \n",
       "3  0.345285  0.332233  0.328589   ...    -0.758853 -0.961080 -0.729455   \n",
       "4  0.239242  0.227977  0.224762   ...    -1.228289  1.156914 -0.696727   \n",
       "\n",
       "       REF2      REF3      REF7      RELI      TMAP      TMFI    Depth  \n",
       "0 -0.548238 -0.637681 -0.413306 -0.130139  0.154013 -0.033905  Subsoil  \n",
       "1 -1.058442 -0.792961 -0.785786 -0.588855  0.106200  0.559694  Subsoil  \n",
       "2 -0.926716 -0.865424 -0.607359 -0.334013 -0.021042  0.182431  Topsoil  \n",
       "3 -0.780148 -0.716356 -0.552923 -0.079171  0.394936  0.774477  Topsoil  \n",
       "4  0.080705  0.118012 -0.920363 -0.266055  1.612625  1.199048  Subsoil  \n",
       "\n",
       "[5 rows x 3595 columns]"
      ]
     },
     "execution_count": 34,
     "metadata": {},
     "output_type": "execute_result"
    }
   ],
   "source": [
    "df_test = pd.read_csv('sorted_test.csv')\n",
    "df_test.head()"
   ]
  },
  {
   "cell_type": "code",
   "execution_count": 35,
   "metadata": {},
   "outputs": [
    {
     "data": {
      "text/html": [
       "<div>\n",
       "<style>\n",
       "    .dataframe thead tr:only-child th {\n",
       "        text-align: right;\n",
       "    }\n",
       "\n",
       "    .dataframe thead th {\n",
       "        text-align: left;\n",
       "    }\n",
       "\n",
       "    .dataframe tbody tr th {\n",
       "        vertical-align: top;\n",
       "    }\n",
       "</style>\n",
       "<table border=\"1\" class=\"dataframe\">\n",
       "  <thead>\n",
       "    <tr style=\"text-align: right;\">\n",
       "      <th></th>\n",
       "      <th>m7497.96</th>\n",
       "      <th>m7496.04</th>\n",
       "      <th>m7494.11</th>\n",
       "      <th>m7492.18</th>\n",
       "      <th>m7490.25</th>\n",
       "      <th>m7488.32</th>\n",
       "      <th>m7486.39</th>\n",
       "      <th>m7484.46</th>\n",
       "      <th>m7482.54</th>\n",
       "      <th>m7480.61</th>\n",
       "      <th>...</th>\n",
       "      <th>EVI</th>\n",
       "      <th>LSTD</th>\n",
       "      <th>LSTN</th>\n",
       "      <th>REF1</th>\n",
       "      <th>REF2</th>\n",
       "      <th>REF3</th>\n",
       "      <th>REF7</th>\n",
       "      <th>RELI</th>\n",
       "      <th>TMAP</th>\n",
       "      <th>TMFI</th>\n",
       "    </tr>\n",
       "  </thead>\n",
       "  <tbody>\n",
       "    <tr>\n",
       "      <th>0</th>\n",
       "      <td>0.210899</td>\n",
       "      <td>0.209221</td>\n",
       "      <td>0.207645</td>\n",
       "      <td>0.208714</td>\n",
       "      <td>0.211972</td>\n",
       "      <td>0.213562</td>\n",
       "      <td>0.211267</td>\n",
       "      <td>0.208248</td>\n",
       "      <td>0.207341</td>\n",
       "      <td>0.207325</td>\n",
       "      <td>...</td>\n",
       "      <td>0.396501</td>\n",
       "      <td>-0.009394</td>\n",
       "      <td>0.197885</td>\n",
       "      <td>-0.622545</td>\n",
       "      <td>-0.548238</td>\n",
       "      <td>-0.637681</td>\n",
       "      <td>-0.413306</td>\n",
       "      <td>-0.130139</td>\n",
       "      <td>0.154013</td>\n",
       "      <td>-0.033905</td>\n",
       "    </tr>\n",
       "    <tr>\n",
       "      <th>1</th>\n",
       "      <td>0.191650</td>\n",
       "      <td>0.184120</td>\n",
       "      <td>0.177070</td>\n",
       "      <td>0.180624</td>\n",
       "      <td>0.192343</td>\n",
       "      <td>0.197502</td>\n",
       "      <td>0.187655</td>\n",
       "      <td>0.175447</td>\n",
       "      <td>0.172639</td>\n",
       "      <td>0.172654</td>\n",
       "      <td>...</td>\n",
       "      <td>0.137755</td>\n",
       "      <td>-0.277944</td>\n",
       "      <td>-0.851643</td>\n",
       "      <td>-0.792000</td>\n",
       "      <td>-1.058442</td>\n",
       "      <td>-0.792961</td>\n",
       "      <td>-0.785786</td>\n",
       "      <td>-0.588855</td>\n",
       "      <td>0.106200</td>\n",
       "      <td>0.559694</td>\n",
       "    </tr>\n",
       "    <tr>\n",
       "      <th>2</th>\n",
       "      <td>0.083966</td>\n",
       "      <td>0.074740</td>\n",
       "      <td>0.065596</td>\n",
       "      <td>0.069924</td>\n",
       "      <td>0.085145</td>\n",
       "      <td>0.092527</td>\n",
       "      <td>0.080625</td>\n",
       "      <td>0.064768</td>\n",
       "      <td>0.060597</td>\n",
       "      <td>0.060281</td>\n",
       "      <td>...</td>\n",
       "      <td>0.198251</td>\n",
       "      <td>-0.443809</td>\n",
       "      <td>-0.628839</td>\n",
       "      <td>-0.754909</td>\n",
       "      <td>-0.926716</td>\n",
       "      <td>-0.865424</td>\n",
       "      <td>-0.607359</td>\n",
       "      <td>-0.334013</td>\n",
       "      <td>-0.021042</td>\n",
       "      <td>0.182431</td>\n",
       "    </tr>\n",
       "    <tr>\n",
       "      <th>3</th>\n",
       "      <td>0.345962</td>\n",
       "      <td>0.338567</td>\n",
       "      <td>0.331786</td>\n",
       "      <td>0.336948</td>\n",
       "      <td>0.350820</td>\n",
       "      <td>0.356365</td>\n",
       "      <td>0.345285</td>\n",
       "      <td>0.332233</td>\n",
       "      <td>0.328589</td>\n",
       "      <td>0.328002</td>\n",
       "      <td>...</td>\n",
       "      <td>0.387755</td>\n",
       "      <td>-0.758853</td>\n",
       "      <td>-0.961080</td>\n",
       "      <td>-0.729455</td>\n",
       "      <td>-0.780148</td>\n",
       "      <td>-0.716356</td>\n",
       "      <td>-0.552923</td>\n",
       "      <td>-0.079171</td>\n",
       "      <td>0.394936</td>\n",
       "      <td>0.774477</td>\n",
       "    </tr>\n",
       "    <tr>\n",
       "      <th>4</th>\n",
       "      <td>0.239019</td>\n",
       "      <td>0.232611</td>\n",
       "      <td>0.226266</td>\n",
       "      <td>0.229921</td>\n",
       "      <td>0.241821</td>\n",
       "      <td>0.247756</td>\n",
       "      <td>0.239242</td>\n",
       "      <td>0.227977</td>\n",
       "      <td>0.224762</td>\n",
       "      <td>0.224418</td>\n",
       "      <td>...</td>\n",
       "      <td>1.914723</td>\n",
       "      <td>-1.228289</td>\n",
       "      <td>1.156914</td>\n",
       "      <td>-0.696727</td>\n",
       "      <td>0.080705</td>\n",
       "      <td>0.118012</td>\n",
       "      <td>-0.920363</td>\n",
       "      <td>-0.266055</td>\n",
       "      <td>1.612625</td>\n",
       "      <td>1.199048</td>\n",
       "    </tr>\n",
       "  </tbody>\n",
       "</table>\n",
       "<p>5 rows × 3593 columns</p>\n",
       "</div>"
      ],
      "text/plain": [
       "   m7497.96  m7496.04  m7494.11  m7492.18  m7490.25  m7488.32  m7486.39  \\\n",
       "0  0.210899  0.209221  0.207645  0.208714  0.211972  0.213562  0.211267   \n",
       "1  0.191650  0.184120  0.177070  0.180624  0.192343  0.197502  0.187655   \n",
       "2  0.083966  0.074740  0.065596  0.069924  0.085145  0.092527  0.080625   \n",
       "3  0.345962  0.338567  0.331786  0.336948  0.350820  0.356365  0.345285   \n",
       "4  0.239019  0.232611  0.226266  0.229921  0.241821  0.247756  0.239242   \n",
       "\n",
       "   m7484.46  m7482.54  m7480.61    ...          EVI      LSTD      LSTN  \\\n",
       "0  0.208248  0.207341  0.207325    ...     0.396501 -0.009394  0.197885   \n",
       "1  0.175447  0.172639  0.172654    ...     0.137755 -0.277944 -0.851643   \n",
       "2  0.064768  0.060597  0.060281    ...     0.198251 -0.443809 -0.628839   \n",
       "3  0.332233  0.328589  0.328002    ...     0.387755 -0.758853 -0.961080   \n",
       "4  0.227977  0.224762  0.224418    ...     1.914723 -1.228289  1.156914   \n",
       "\n",
       "       REF1      REF2      REF3      REF7      RELI      TMAP      TMFI  \n",
       "0 -0.622545 -0.548238 -0.637681 -0.413306 -0.130139  0.154013 -0.033905  \n",
       "1 -0.792000 -1.058442 -0.792961 -0.785786 -0.588855  0.106200  0.559694  \n",
       "2 -0.754909 -0.926716 -0.865424 -0.607359 -0.334013 -0.021042  0.182431  \n",
       "3 -0.729455 -0.780148 -0.716356 -0.552923 -0.079171  0.394936  0.774477  \n",
       "4 -0.696727  0.080705  0.118012 -0.920363 -0.266055  1.612625  1.199048  \n",
       "\n",
       "[5 rows x 3593 columns]"
      ]
     },
     "execution_count": 35,
     "metadata": {},
     "output_type": "execute_result"
    }
   ],
   "source": [
    "pidn = df_test['PIDN']\n",
    "del df_test['PIDN']\n",
    "del df_test['Depth']\n",
    "df_test.head()"
   ]
  },
  {
   "cell_type": "code",
   "execution_count": 36,
   "metadata": {},
   "outputs": [
    {
     "data": {
      "text/plain": [
       "(3593, 727)"
      ]
     },
     "execution_count": 36,
     "metadata": {},
     "output_type": "execute_result"
    }
   ],
   "source": [
    "X_test = df_test.as_matrix()\n",
    "X_test = X_test.T\n",
    "X_test.shape"
   ]
  },
  {
   "cell_type": "code",
   "execution_count": 41,
   "metadata": {},
   "outputs": [
    {
     "name": "stdout",
     "output_type": "stream",
     "text": [
      "Cost after iteration 0: 0.000000\n",
      "Cost after iteration 10: 0.000000\n",
      "Cost after iteration 20: 0.000000\n",
      "Cost after iteration 30: 0.000000\n",
      "Cost after iteration 40: 0.000000\n",
      "Cost after iteration 50: 0.000000\n",
      "Cost after iteration 60: 0.000000\n",
      "Cost after iteration 70: 0.000000\n",
      "Cost after iteration 80: 0.000000\n",
      "Cost after iteration 90: 0.000000\n"
     ]
    },
    {
     "data": {
      "image/png": "[encoded data removed]",
      "text/plain": [
       "<matplotlib.figure.Figure at 0x7f063e5af4d0>"
      ]
     },
     "metadata": {},
     "output_type": "display_data"
    }
   ],
   "source": [
    "parameters = different_result(X,Y_SOC,0.05,100,\"SOC\")"
   ]
  },
  {
   "cell_type": "code",
   "execution_count": 42,
   "metadata": {},
   "outputs": [
    {
     "data": {
      "text/plain": [
       "(1, 727)"
      ]
     },
     "execution_count": 42,
     "metadata": {},
     "output_type": "execute_result"
    }
   ],
   "source": [
    "y_test_soc,c = L_model_forward(X_test,parameters)\n",
    "y_test_soc.shape"
   ]
  },
  {
   "cell_type": "code",
   "execution_count": 43,
   "metadata": {},
   "outputs": [
    {
     "name": "stdout",
     "output_type": "stream",
     "text": [
      "Cost after iteration 0: 0.000000\n",
      "Cost after iteration 10: 0.000000\n",
      "Cost after iteration 20: 0.000000\n",
      "Cost after iteration 30: 0.000000\n",
      "Cost after iteration 40: 0.000000\n",
      "Cost after iteration 50: 0.000000\n",
      "Cost after iteration 60: 0.000000\n",
      "Cost after iteration 70: 0.000000\n",
      "Cost after iteration 80: 0.000000\n",
      "Cost after iteration 90: 0.000000\n"
     ]
    },
    {
     "data": {
      "image/png": "[encoded data removed]",
      "text/plain": [
       "<matplotlib.figure.Figure at 0x7f063e4648d0>"
      ]
     },
     "metadata": {},
     "output_type": "display_data"
    }
   ],
   "source": [
    "parameters =different_result(X,Y_Sand,0.05,100,\"Sand\")"
   ]
  },
  {
   "cell_type": "code",
   "execution_count": 44,
   "metadata": {},
   "outputs": [
    {
     "data": {
      "text/plain": [
       "(1, 727)"
      ]
     },
     "execution_count": 44,
     "metadata": {},
     "output_type": "execute_result"
    }
   ],
   "source": [
    "y_test_sand,c = L_model_forward(X_test,parameters)\n",
    "y_test_sand.shape"
   ]
  },
  {
   "cell_type": "code",
   "execution_count": 30,
   "metadata": {},
   "outputs": [
    {
     "name": "stdout",
     "output_type": "stream",
     "text": [
      "Cost after iteration 0: 0.000000\n",
      "Cost after iteration 10: 0.000000\n",
      "Cost after iteration 20: 0.000000\n",
      "Cost after iteration 30: 0.000000\n",
      "Cost after iteration 40: 0.000000\n",
      "Cost after iteration 50: 0.000000\n",
      "Cost after iteration 60: 0.000000\n",
      "Cost after iteration 70: 0.000000\n",
      "Cost after iteration 80: 0.000000\n",
      "Cost after iteration 90: 0.000000\n"
     ]
    },
    {
     "data": {
      "image/png": "[encoded data removed]",
      "text/plain": [
       "<matplotlib.figure.Figure at 0x7f0640934610>"
      ]
     },
     "metadata": {},
     "output_type": "display_data"
    }
   ],
   "source": [
    "parameters = different_result(X,Y_P,0.05,100,\"P\")"
   ]
  },
  {
   "cell_type": "code",
   "execution_count": 45,
   "metadata": {},
   "outputs": [
    {
     "data": {
      "text/plain": [
       "(1, 727)"
      ]
     },
     "execution_count": 45,
     "metadata": {},
     "output_type": "execute_result"
    }
   ],
   "source": [
    "y_test_P,c = L_model_forward(X_test,parameters)\n",
    "y_test_P.shape"
   ]
  },
  {
   "cell_type": "code",
   "execution_count": 46,
   "metadata": {},
   "outputs": [
    {
     "name": "stdout",
     "output_type": "stream",
     "text": [
      "Cost after iteration 0: 0.000000\n",
      "Cost after iteration 10: 0.000000\n",
      "Cost after iteration 20: 0.000000\n",
      "Cost after iteration 30: 0.000000\n",
      "Cost after iteration 40: 0.000000\n",
      "Cost after iteration 50: 0.000000\n",
      "Cost after iteration 60: 0.000000\n",
      "Cost after iteration 70: 0.000000\n",
      "Cost after iteration 80: 0.000000\n",
      "Cost after iteration 90: 0.000000\n"
     ]
    },
    {
     "data": {
      "image/png": "[encoded data removed]",
      "text/plain": [
       "<matplotlib.figure.Figure at 0x7f063e464d10>"
      ]
     },
     "metadata": {},
     "output_type": "display_data"
    }
   ],
   "source": [
    "parameters = different_result(X,Y_pH,0.05,100,\"pH\")"
   ]
  },
  {
   "cell_type": "code",
   "execution_count": 47,
   "metadata": {},
   "outputs": [
    {
     "data": {
      "text/plain": [
       "(1, 727)"
      ]
     },
     "execution_count": 47,
     "metadata": {},
     "output_type": "execute_result"
    }
   ],
   "source": [
    "y_test_pH,c = L_model_forward(X_test,parameters)\n",
    "y_test_pH.shape"
   ]
  },
  {
   "cell_type": "code",
   "execution_count": 48,
   "metadata": {},
   "outputs": [
    {
     "name": "stdout",
     "output_type": "stream",
     "text": [
      "Cost after iteration 0: 0.000000\n",
      "Cost after iteration 10: 0.000000\n",
      "Cost after iteration 20: 0.000000\n",
      "Cost after iteration 30: 0.000000\n",
      "Cost after iteration 40: 0.000000\n",
      "Cost after iteration 50: 0.000000\n",
      "Cost after iteration 60: 0.000000\n",
      "Cost after iteration 70: 0.000000\n",
      "Cost after iteration 80: 0.000000\n",
      "Cost after iteration 90: 0.000000\n"
     ]
    },
    {
     "data": {
      "image/png": "[encoded data removed]",
      "text/plain": [
       "<matplotlib.figure.Figure at 0x7f063e20e810>"
      ]
     },
     "metadata": {},
     "output_type": "display_data"
    }
   ],
   "source": [
    "parameters = different_result(X,Y_Ca,0.05,100,\"Ca\")"
   ]
  },
  {
   "cell_type": "code",
   "execution_count": 49,
   "metadata": {},
   "outputs": [
    {
     "data": {
      "text/plain": [
       "(1, 727)"
      ]
     },
     "execution_count": 49,
     "metadata": {},
     "output_type": "execute_result"
    }
   ],
   "source": [
    "y_test_Ca,c = L_model_forward(X_test,parameters)\n",
    "y_test_Ca.shape"
   ]
  },
  {
   "cell_type": "code",
   "execution_count": 56,
   "metadata": {
    "collapsed": true
   },
   "outputs": [],
   "source": [
    "pidn = pidn.as_matrix()"
   ]
  },
  {
   "cell_type": "code",
   "execution_count": 60,
   "metadata": {
    "collapsed": true
   },
   "outputs": [],
   "source": [
    "from collections import OrderedDict"
   ]
  },
  {
   "cell_type": "code",
   "execution_count": 61,
   "metadata": {
    "collapsed": true
   },
   "outputs": [],
   "source": [
    "result = OrderedDict([ ('PIDN', pidn),\n",
    "          ('Ca', y_test_Ca[0]),\n",
    "          ('P',  y_test_P[0]),\n",
    "          ('pH', y_test_pH[0]),\n",
    "          ('SOC',y_test_soc[0]),\n",
    "          ('Sand',y_test_sand[0]) ] )"
   ]
  },
  {
   "cell_type": "code",
   "execution_count": 63,
   "metadata": {},
   "outputs": [
    {
     "data": {
      "text/html": [
       "<div>\n",
       "<style>\n",
       "    .dataframe thead tr:only-child th {\n",
       "        text-align: right;\n",
       "    }\n",
       "\n",
       "    .dataframe thead th {\n",
       "        text-align: left;\n",
       "    }\n",
       "\n",
       "    .dataframe tbody tr th {\n",
       "        vertical-align: top;\n",
       "    }\n",
       "</style>\n",
       "<table border=\"1\" class=\"dataframe\">\n",
       "  <thead>\n",
       "    <tr style=\"text-align: right;\">\n",
       "      <th></th>\n",
       "      <th>PIDN</th>\n",
       "      <th>Ca</th>\n",
       "      <th>P</th>\n",
       "      <th>pH</th>\n",
       "      <th>SOC</th>\n",
       "      <th>Sand</th>\n",
       "    </tr>\n",
       "  </thead>\n",
       "  <tbody>\n",
       "    <tr>\n",
       "      <th>0</th>\n",
       "      <td>09gt9UK5</td>\n",
       "      <td>0.003701</td>\n",
       "      <td>0.003701</td>\n",
       "      <td>0.003701</td>\n",
       "      <td>0.003701</td>\n",
       "      <td>0.003701</td>\n",
       "    </tr>\n",
       "    <tr>\n",
       "      <th>1</th>\n",
       "      <td>0BVvxJ6a</td>\n",
       "      <td>0.004504</td>\n",
       "      <td>0.004504</td>\n",
       "      <td>0.004504</td>\n",
       "      <td>0.004504</td>\n",
       "      <td>0.004504</td>\n",
       "    </tr>\n",
       "    <tr>\n",
       "      <th>2</th>\n",
       "      <td>0KbdgApg</td>\n",
       "      <td>0.004294</td>\n",
       "      <td>0.004294</td>\n",
       "      <td>0.004294</td>\n",
       "      <td>0.004294</td>\n",
       "      <td>0.004294</td>\n",
       "    </tr>\n",
       "    <tr>\n",
       "      <th>3</th>\n",
       "      <td>0MnuuduB</td>\n",
       "      <td>0.004355</td>\n",
       "      <td>0.004355</td>\n",
       "      <td>0.004355</td>\n",
       "      <td>0.004355</td>\n",
       "      <td>0.004355</td>\n",
       "    </tr>\n",
       "    <tr>\n",
       "      <th>4</th>\n",
       "      <td>0PcIsF9z</td>\n",
       "      <td>0.001374</td>\n",
       "      <td>0.001374</td>\n",
       "      <td>0.001374</td>\n",
       "      <td>0.001374</td>\n",
       "      <td>0.001374</td>\n",
       "    </tr>\n",
       "  </tbody>\n",
       "</table>\n",
       "</div>"
      ],
      "text/plain": [
       "       PIDN        Ca         P        pH       SOC      Sand\n",
       "0  09gt9UK5  0.003701  0.003701  0.003701  0.003701  0.003701\n",
       "1  0BVvxJ6a  0.004504  0.004504  0.004504  0.004504  0.004504\n",
       "2  0KbdgApg  0.004294  0.004294  0.004294  0.004294  0.004294\n",
       "3  0MnuuduB  0.004355  0.004355  0.004355  0.004355  0.004355\n",
       "4  0PcIsF9z  0.001374  0.001374  0.001374  0.001374  0.001374"
      ]
     },
     "execution_count": 63,
     "metadata": {},
     "output_type": "execute_result"
    }
   ],
   "source": [
    "df_sub = pd.DataFrame.from_dict(result)\n",
    "df_sub.head()"
   ]
  },
  {
   "cell_type": "code",
   "execution_count": 66,
   "metadata": {
    "collapsed": true
   },
   "outputs": [],
   "source": [
    "df_sub.to_csv('submission.csv',index=False)"
   ]
  }
 ],
 "metadata": {
  "kernelspec": {
   "display_name": "Python 2",
   "language": "python",
   "name": "python2"
  },
  "language_info": {
   "codemirror_mode": {
    "name": "ipython",
    "version": 2
   },
   "file_extension": ".py",
   "mimetype": "text/x-python",
   "name": "python",
   "nbconvert_exporter": "python",
   "pygments_lexer": "ipython2",
   "version": "2.7.6"
  }
 },
 "nbformat": 4,
 "nbformat_minor": 2
}
